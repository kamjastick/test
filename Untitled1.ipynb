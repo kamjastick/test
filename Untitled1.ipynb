{
 "cells": [
  {
   "cell_type": "markdown",
   "metadata": {},
   "source": [
    "# Gauss Code A Fixed-b Perspective on Inference for High Frequency Financial Data"
   ]
  },
  {
   "cell_type": "markdown",
   "metadata": {},
   "source": [
    "#### Autocovariance estimator\n",
    "$$\\gamma_{T}(j) = T^{-1}\\sum^{T}_{t=j+1}{\\hat{v}_{i}\\hat{v}_{i-j}} = \\frac{1}{T}\\hat{V}_{i}'\\hat{V}_{i-j}$$\n",
    "and $\\hat{v}_{i} = \\hat{u}_{i} $ or  $x_{i}\\hat{u}_{i}$"
   ]
  },
  {
   "cell_type": "code",
   "execution_count": 2,
   "metadata": {},
   "outputs": [],
   "source": [
    "proc(1) = autocov_est(vhat,j);\n",
    "    local T,v_t,v_tm1,gamma_hat_j;\n",
    "    if j >= 0;\n",
    "        T = rows(vhat);\n",
    "        v_t = vhat[j+1:T,.];\n",
    "        v_tm1 = vhat[1:T-j,.];\n",
    "        gamma_hat_j = v_t'v_tm1/T;\n",
    "        retp(gamma_hat_j);\n",
    "    else;\n",
    "        @ if j < 0 @\n",
    "        T = rows(vhat);\n",
    "        v_t = vhat[-j+1:T,.];\n",
    "        v_tm1 = vhat[1:T+j,.];\n",
    "        gamma_hat_j = v_t'v_tm1/T;\n",
    "        retp(gamma_hat_j);\n",
    "    endif;\n",
    "endp;"
   ]
  },
  {
   "cell_type": "markdown",
   "metadata": {},
   "source": [
    "#### Newey-West Bandwidth\n",
    "$$\\hat{\\sigma}_{i} = T^{-1}\\sum_{t = i+1}^{T}{w'\\hat{v}_{t}\\hat{v}_{t-i}'w}$$\n",
    "Newey-West compute nonparametric truncated kernel estimators as follows\n",
    "$$\\hat{f}^{(q)} = \\frac{1}{2\\pi}\\sum_{j=-a_{n}}^{a_{n}}{|j|^{q}}\\hat{\\sigma}_{j}$$\n",
    "where $a_{n} = cn^{p}$ is Newey-West lag selection parameter and $p = 4/25$ for Prazen kernel.\n",
    "\n",
    "Then, we have\n",
    "$$\\hat{\\alpha}(2) = (\\hat{f}^{(q)}/\\hat{f}^{(0)})^{2}$$\n",
    "\n",
    "$$b_{T}^{*} = c_{k}[\\hat{\\alpha}(q)T]^{\\frac{1}{2q+1}}$$"
   ]
  },
  {
   "cell_type": "code",
   "execution_count": null,
   "metadata": {},
   "outputs": [],
   "source": [
    "proc(1) = NW_band(vhat,c,p,q);\n",
    "    local n,T,j,nw_lag,f_q,f_0,a_n,a_hat_2,ST_NW,w,wp;\n",
    "    n = rows(vhat);\n",
    "    T = rows(vhat);\n",
    "    if cols(vhat) == 1;\n",
    "        nw_lag = c*(n^p);\n",
    "        a_n = nw_lag;\n",
    "        f_q = 0;\n",
    "        f_0 = 0;\n",
    "        for j (-int(a_n),int(a_n),1);\n",
    "            f_q = f_q + (abs(j)^q)*autocov_est(vhat,j);\n",
    "            f_0 = f_0 + autocov_est(vhat,j);\n",
    "        endfor;\n",
    "        a_hat_2 = (f_q/f_0)^2;\n",
    "        ST_NW = 2.6614*(T*a_hat_2)^(0.2); @bandwidth@\n",
    "        retp(ST_NW);\n",
    "      \n",
    "      elseif cols(vhat) == 2;  @ n by 2 matrix @\n",
    "        nw_lag = c*(n^p);\n",
    "        a_n = nw_lag;\n",
    "        f_q = 0;\n",
    "        f_0 = 0;\n",
    "        wp = {0 1};\n",
    "        w = wp';\n",
    "        for j (-int(a_n),int(a_n),1);\n",
    "            f_q = f_q + (abs(j)^q)*((wp*autocov_est(vhat,j))*w);\n",
    "            f_0 = f_0 + ((wp*autocov_est(vhat,j))*w);\n",
    "        endfor;\n",
    "        a_hat_2 = (f_q/f_0)^2;\n",
    "        ST_NW = 2.6614*(T*a_hat_2)^(0.2);\n",
    "        \n",
    "        retp(ST_NW);\n",
    "    endif;\n",
    "endp;"
   ]
  },
  {
   "cell_type": "markdown",
   "metadata": {},
   "source": [
    "#### Parzen Kernel"
   ]
  },
  {
   "cell_type": "code",
   "execution_count": null,
   "metadata": {},
   "outputs": [],
   "source": [
    "proc(1) = Parzen(x);\n",
    "    local y;\n",
    "    y=(x.>=0.0).*(x.<=0.5).*(1.0-6.0*x.*x.*(1.0-x));\n",
    "    y=y+(x.>0.5).*(x.<=1.0)*2.0.*(1.0-x).^3;\n",
    "    retp (y);\n",
    "endp;"
   ]
  },
  {
   "cell_type": "markdown",
   "metadata": {},
   "source": [
    "### Longrun variance estimator\n",
    "$$\\hat{\\Omega}_{T}^{2} = \\sum_{|j|\\leq T-1}K(\\frac{j}{b_{T}^{*}})\\hat{\\gamma}_{T}(j)$$"
   ]
  },
  {
   "cell_type": "code",
   "execution_count": null,
   "metadata": {},
   "outputs": [],
   "source": [
    "proc(1) = LRV(vhat,c,p,q,bandtype);\n",
    "    local T, LRV2, b_n, j;\n",
    "    if bandtype == 2; @2 is NW, 1 is AD@\n",
    "        T = rows(vhat);\n",
    "        LRV2 = 0;\n",
    "        b_n = NW_band(vhat,c,p,q);\n",
    "        for j (-int(T)+1,int(T)-1,1);\n",
    "            LRV2 = LRV2 + Parzen(j/b_n)*autocov_est(vhat,j);\n",
    "        endfor;\n",
    "    endif;\n",
    "    retp(LRV2);\n",
    "endp;"
   ]
  }
 ],
 "metadata": {
  "kernelspec": {
   "display_name": "Python 3",
   "language": "python",
   "name": "python3"
  },
  "language_info": {
   "codemirror_mode": {
    "name": "ipython",
    "version": 3
   },
   "file_extension": ".py",
   "mimetype": "text/x-python",
   "name": "python",
   "nbconvert_exporter": "python",
   "pygments_lexer": "ipython3",
   "version": "3.7.3"
  }
 },
 "nbformat": 4,
 "nbformat_minor": 2
}
