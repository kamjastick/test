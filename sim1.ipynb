{
 "cells": [
  {
   "cell_type": "markdown",
   "metadata": {},
   "source": [
    "# Gauss Code for \"A Fixed-b Perspective on Inference for High Frequency Financial Data\""
   ]
  },
  {
   "cell_type": "markdown",
   "metadata": {},
   "source": [
    "## Main Simulation"
   ]
  },
  {
   "cell_type": "code",
   "execution_count": null,
   "metadata": {},
   "outputs": [],
   "source": [
    "new;\n",
    "n_table = 5;\n",
    "ku = seqa(0,1.5,n_table);\n",
    "kx = seqa(0,1.5,n_table);\n",
    "table_NW_mean = zeros(n_table,n_table);\n",
    "table_AD_mean = zeros(n_table,n_table);\n",
    "table_NWband_mean = zeros(n_table,n_table);\n",
    "table_ADband_mean = zeros(n_table,n_table);\n",
    "for w (1, rows(ku),1);\n",
    "    for d (1, rows(kx),1);\n",
    "        NW_set = 0;\n",
    "        NW_band_set = 0;\n",
    "        AD_set = 0;\n",
    "        AD_band_set = 0;\n",
    "        clear NW_set;\n",
    "        clear NW_band_set;\n",
    "        clear AD_set;\n",
    "        clear AD_band_set;\n",
    "        for i (1,100,1);\n",
    "            rndseed i;\n",
    "            u = OU(0,30,30*252,ku[w],0,0.0097);\n",
    "            x = OU(0,30,30*252,kx[d],0,0.0998);\n",
    "            b0 = 0;\n",
    "            b1 = 1;\n",
    "            y = b0 + b1*x + u;\n",
    "            nu = rows(y);\n",
    "            cons1 = ones(nu,1);\n",
    "            X2 = cons1 ~ x;\n",
    "            coeffs = invpd(X2'X2)*X2'y;\n",
    "            X_hat = X2*coeffs;\n",
    "            uhat = y - X_hat; @G-test@\n",
    "            vhat = uhat;\n",
    "            R = { 1 0, 0 1 };\n",
    "            r2 = {0,1};\n",
    "            NW1 = Gtest(R,r2,coeffs,X2,vhat,5.5*0.275,7/25,2,2); @NW is bandtype 2@\n",
    "            NW2 = NW_band(vhat,5.5*0.275,7/25,2);\n",
    "            NW_set = NW_set~NW1;\n",
    "            NW_band_set = NW_band_set~NW2;\n",
    "            AD1 = Gtest(R,r2,coeffs,X2,vhat,5.5*0.275,7/25,2,1); @AD is bandtype 1@\n",
    "            AD2 = AD_band(vhat);\n",
    "            AD_set = AD_set~AD1;\n",
    "            AD_band_set = AD_band_set~AD2;\n",
    "        endfor;\n",
    "        table_NW_mean[w,d] = meanc(NW_set[2:cols(NW_set)]');\n",
    "        table_AD_mean[w,d] = meanc(AD_set[2:cols(AD_set)]');\n",
    "        table_NWband_mean[w,d] = meanc(NW_band_set[2:cols(NW_band_set)]');\n",
    "        table_ADband_mean[w,d] = meanc(AD_band_set[2:cols(AD_band_set)]');\n",
    "    endfor;\n",
    "endfor;"
   ]
  },
  {
   "cell_type": "markdown",
   "metadata": {},
   "source": [
    "#### Autocovariance estimator\n",
    "$$\\gamma_{T}(j) = T^{-1}\\sum^{T}_{t=j+1}{\\hat{v}_{i}\\hat{v}_{i-j}} = \\frac{1}{T}\\hat{V}_{(i)}'\\hat{V}_{(i-j)}$$\n",
    "and $\\hat{v}_{i} = \\hat{u}_{i} $ or  $x_{i}\\hat{u}_{i}$"
   ]
  },
  {
   "cell_type": "code",
   "execution_count": 2,
   "metadata": {},
   "outputs": [],
   "source": [
    "proc(1) = autocov_est(vhat,j);\n",
    "    local T,v_t,v_tm1,gamma_hat_j;\n",
    "    if j >= 0;\n",
    "        T = rows(vhat);\n",
    "        v_t = vhat[j+1:T,.];\n",
    "        v_tm1 = vhat[1:T-j,.];\n",
    "        gamma_hat_j = v_t'v_tm1/T;\n",
    "        retp(gamma_hat_j);\n",
    "    else;\n",
    "        @ if j < 0 @\n",
    "        T = rows(vhat);\n",
    "        v_t = vhat[-j+1:T,.];\n",
    "        v_tm1 = vhat[1:T+j,.];\n",
    "        gamma_hat_j = v_t'v_tm1/T;\n",
    "        retp(gamma_hat_j);\n",
    "    endif;\n",
    "endp;"
   ]
  },
  {
   "cell_type": "markdown",
   "metadata": {},
   "source": [
    "#### Newey-West Bandwidth\n",
    "$$\\hat{\\sigma}_{i} = T^{-1}\\sum_{t = i+1}^{T}{w'\\hat{v}_{t}\\hat{v}_{t-i}'w}$$\n",
    "Newey-West compute nonparametric truncated kernel estimators as follows\n",
    "$$\\hat{f}^{(q)} = \\frac{1}{2\\pi}\\sum_{j=-a_{n}}^{a_{n}}{|j|^{q}}\\hat{\\sigma}_{j}$$\n",
    "where $a_{n} = cn^{p}$ is Newey-West lag selection parameter and $p = 4/25$ for Prazen kernel.\n",
    "\n",
    "Then, we have\n",
    "$$\\hat{\\alpha}(2) = (\\hat{f}^{(q)}/\\hat{f}^{(0)})^{2}$$\n",
    "\n",
    "$$b_{T}^{*} = c_{k}[\\hat{\\alpha}(q)T]^{\\frac{1}{2q+1}}$$"
   ]
  },
  {
   "cell_type": "code",
   "execution_count": null,
   "metadata": {},
   "outputs": [],
   "source": [
    "proc(1) = NW_band(vhat,c,p,q);\n",
    "    local n,T,j,nw_lag,f_q,f_0,a_n,a_hat_2,ST_NW,w,wp;\n",
    "    n = rows(vhat);\n",
    "    T = rows(vhat);\n",
    "    if cols(vhat) == 1;\n",
    "        nw_lag = c*(n^p);\n",
    "        a_n = nw_lag;\n",
    "        f_q = 0;\n",
    "        f_0 = 0;\n",
    "        for j (-int(a_n),int(a_n),1);\n",
    "            f_q = f_q + (abs(j)^q)*autocov_est(vhat,j);\n",
    "            f_0 = f_0 + autocov_est(vhat,j);\n",
    "        endfor;\n",
    "        a_hat_2 = (f_q/f_0)^2;\n",
    "        ST_NW = 2.6614*(T*a_hat_2)^(0.2); @bandwidth@\n",
    "        retp(ST_NW);\n",
    "      \n",
    "      elseif cols(vhat) == 2;  @ n by 2 matrix @\n",
    "        nw_lag = c*(n^p);\n",
    "        a_n = nw_lag;\n",
    "        f_q = 0;\n",
    "        f_0 = 0;\n",
    "        wp = {0 1};\n",
    "        w = wp';\n",
    "        for j (-int(a_n),int(a_n),1);\n",
    "            f_q = f_q + (abs(j)^q)*((wp*autocov_est(vhat,j))*w);\n",
    "            f_0 = f_0 + ((wp*autocov_est(vhat,j))*w);\n",
    "        endfor;\n",
    "        a_hat_2 = (f_q/f_0)^2;\n",
    "        ST_NW = 2.6614*(T*a_hat_2)^(0.2);\n",
    "        \n",
    "        retp(ST_NW);\n",
    "    endif;\n",
    "endp;"
   ]
  },
  {
   "cell_type": "markdown",
   "metadata": {},
   "source": [
    "#### Parzen Kernel"
   ]
  },
  {
   "cell_type": "code",
   "execution_count": null,
   "metadata": {},
   "outputs": [],
   "source": [
    "proc(1) = Parzen(x);\n",
    "    local y;\n",
    "    y=(x.>=0.0).*(x.<=0.5).*(1.0-6.0*x.*x.*(1.0-x));\n",
    "    y=y+(x.>0.5).*(x.<=1.0)*2.0.*(1.0-x).^3;\n",
    "    retp (y);\n",
    "endp;"
   ]
  },
  {
   "cell_type": "markdown",
   "metadata": {},
   "source": [
    "### Longrun variance estimator\n",
    "$$\\hat{\\Omega}_{T}^{2} = \\sum_{|j|\\leq T-1}K(\\frac{j}{b_{T}^{*}})\\hat{\\gamma}_{T}(j)$$"
   ]
  },
  {
   "cell_type": "code",
   "execution_count": null,
   "metadata": {},
   "outputs": [],
   "source": [
    "proc(1) = LRV(vhat,c,p,q,bandtype);\n",
    "    local T, LRV2, b_n, j;\n",
    "    if bandtype == 1; @2 is NW, 1 is AD@\n",
    "        T = rows(vhat);\n",
    "        LRV2 = 0;\n",
    "        b_n = AD_band(vhat);\n",
    "        for j (-int(T)+1,int(T)-1,1);\n",
    "            LRV2 = LRV2 + Parzen(j/b_n)*autocov_est(vhat,j);\n",
    "        endfor;    \n",
    "        \n",
    "    elseif bandtype == 2; @2 is NW, 1 is AD@\n",
    "        T = rows(vhat);\n",
    "        LRV2 = 0;\n",
    "        b_n = NW_band(vhat,c,p,q);\n",
    "        for j (-int(T)+1,int(T)-1,1);\n",
    "            LRV2 = LRV2 + Parzen(j/b_n)*autocov_est(vhat,j);\n",
    "        endfor;\n",
    "    endif;\n",
    "    retp(LRV2);\n",
    "endp;"
   ]
  },
  {
   "cell_type": "markdown",
   "metadata": {},
   "source": [
    "## Andrews Bandwidth"
   ]
  },
  {
   "cell_type": "code",
   "execution_count": null,
   "metadata": {},
   "outputs": [],
   "source": [
    "proc(1) = AD_band(vhat);\n",
    "    local T,vhat_t,vhat_tm1,rho_hat,alpha_hat2,ST;\n",
    "    if cols(vhat) == 2;\n",
    "        vhat = vhat[.,2];\n",
    "    endif;\n",
    "    T = rows(vhat);\n",
    "    vhat_t = vhat[2:T,.];\n",
    "    vhat_tm1 = vhat[1:T-1,.];\n",
    "    rho_hat = vhat_t/vhat_tm1;\n",
    "    \n",
    "    if abs(rho_hat - 1) < 0.001;\n",
    "        rho_hat = 1 + 0.001*((rho_hat-1)/abs(rho_hat-1));\n",
    "    endif;\n",
    "    \n",
    "    alpha_hat2 = (4*(rho_hat^2))/((1-rho_hat)^4);\n",
    "    ST = 2.6614*(T*alpha_hat2)^0.2;\n",
    "    retp(ST);\n",
    "endp;"
   ]
  },
  {
   "cell_type": "markdown",
   "metadata": {},
   "source": [
    "## OU Processes"
   ]
  },
  {
   "cell_type": "code",
   "execution_count": null,
   "metadata": {},
   "outputs": [],
   "source": [
    "proc(1) = OU(t_0,t_end,length,theta,mu,sigma);\n",
    "    local t,dt,y, noise,i;\n",
    "    t = seqa(t_0,(t_end-t_0)/(length-1),length);\n",
    "    dt = (t_end-t_0)/(length-1);\n",
    "    y = zeros(length,1);\n",
    "    noise = rndn(length,1)*sqrt(dt);\n",
    "    for i (2, length,1);\n",
    "        y[i] = y[i-1] + theta*(mu-y[i-1])*dt + sigma*noise[i];\n",
    "    endfor;\n",
    "    retp(y);\n",
    "endp;"
   ]
  },
  {
   "cell_type": "markdown",
   "metadata": {},
   "source": [
    "## G-test"
   ]
  },
  {
   "cell_type": "code",
   "execution_count": null,
   "metadata": {},
   "outputs": [],
   "source": [
    "proc(1) = Gtest(R,r2,b,X2,vhat,c,p,q,bandtype);\n",
    "    local j2,Xv,s,G_pre,G_stat;\n",
    "    if bandtype == 1; @2 is NW, 1 is AD@\n",
    "        j2 = R*b - r2;\n",
    "        Xv = invpd(X2'X2);\n",
    "        s = (R*Xv)*R';\n",
    "        G_pre = (j2'*inv(s))*j2;\n",
    "        \n",
    "        G_stat = G_pre/LRV(vhat,c,p,q,bandtype); \n",
    "    \n",
    "    elseif bandtype == 2; @2 is NW, 1 is AD@\n",
    "        j2 = R*b - r2;\n",
    "        Xv = invpd(X2'X2);\n",
    "        s = (R*Xv)*R';\n",
    "        \n",
    "        G_pre = (j2'*inv(s))*j2;\n",
    "        \n",
    "        G_stat = G_pre/LRV(vhat,c,p,q,bandtype);\n",
    "    endif;\n",
    "    retp(G_stat);\n",
    "endp;     "
   ]
  }
 ],
 "metadata": {
  "kernelspec": {
   "display_name": "Python 3",
   "language": "python",
   "name": "python3"
  },
  "language_info": {
   "codemirror_mode": {
    "name": "ipython",
    "version": 3
   },
   "file_extension": ".py",
   "mimetype": "text/x-python",
   "name": "python",
   "nbconvert_exporter": "python",
   "pygments_lexer": "ipython3",
   "version": "3.8.5"
  }
 },
 "nbformat": 4,
 "nbformat_minor": 2
}
